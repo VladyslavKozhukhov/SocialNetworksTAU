{
 "cells": [
  {
   "cell_type": "code",
   "execution_count": 109,
   "metadata": {},
   "outputs": [],
   "source": [
    "import networkx as nx\n",
    "import numpy as np\n",
    "import sys"
   ]
  },
  {
   "cell_type": "code",
   "execution_count": 110,
   "metadata": {},
   "outputs": [],
   "source": [
    "def computeOverLapMatrix(cliques):\n",
    "    numOfCliques = len(cliques)\n",
    "    matrix = np.zeros((numOfCliques,numOfCliques))\n",
    "    for i in range(0,numOfCliques):\n",
    "        for j in range(0,numOfCliques):\n",
    "            for vertex in cliques[i]:\n",
    "                if vertex in cliques[j]:\n",
    "                    matrix[i][j] = matrix[i][j]+ 1\n",
    "    return matrix"
   ]
  },
  {
   "cell_type": "code",
   "execution_count": 111,
   "metadata": {},
   "outputs": [],
   "source": [
    "def thresholdClean(matrix,k,numOfCliques):\n",
    "    matrix[matrix<k-1]=0\n",
    "    for i in range(0,numOfCliques):\n",
    "        if (matrix[i,i] < k):\n",
    "            matrix[i,i] = 0\n",
    "    matrix[matrix>=k-1] = 1\n",
    "    return matrix"
   ]
  },
  {
   "cell_type": "code",
   "execution_count": 112,
   "metadata": {},
   "outputs": [],
   "source": [
    "def createNewGraph(matrix,numOfCliques):\n",
    "    G = nx.Graph()\n",
    "    for i in range(0, numOfCliques):\n",
    "        for j in range(0, i + 1):\n",
    "            if matrix[i, j]:\n",
    "                G.add_edge(i, j)\n",
    "\n",
    "    return G"
   ]
  },
  {
   "cell_type": "code",
   "execution_count": 113,
   "metadata": {},
   "outputs": [],
   "source": [
    "def makeCommunities(matrix,cliques):\n",
    "    communities = list()\n",
    "    G = createNewGraph(matrix,len(cliques))\n",
    "\n",
    "    for component in nx.connected_components(G):\n",
    "        comm = set()\n",
    "        for v in component:\n",
    "            comm |= set(cliques[v])\n",
    "        communities.append(comm)\n",
    "\n",
    "    return communities\n"
   ]
  },
  {
   "cell_type": "code",
   "execution_count": 114,
   "metadata": {},
   "outputs": [],
   "source": [
    "def kcliqueCommunities(G, k = 4):\n",
    "    cliques = list(nx.find_cliques(G))    \n",
    "    overLapMatrix =  computeOverLapMatrix(cliques)\n",
    "    thresholdMatrix = thresholdClean(overLapMatrix,k,len(cliques))\n",
    "    return makeCommunities(thresholdMatrix,cliques)"
   ]
  },
  {
   "cell_type": "code",
   "execution_count": 115,
   "metadata": {
    "scrolled": true
   },
   "outputs": [
    {
     "name": "stdout",
     "output_type": "stream",
     "text": [
      "\t#1 - {'100', '224', '7', '118', '36', '98', '16', '75', '62', '24', '135', '346', '265', '298', '200', '249', '250', '96', '277', '189', '185', '161', '180', '21', '261', '197', '122', '184', '126', '331', '3', '132', '212', '38', '5', '290', '123', '69', '134', '325', '170', '163', '254', '315', '217', '54', '274', '30', '304', '108', '85', '64', '39', '50', '55', '63', '252', '332', '168', '104', '208', '322', '281', '87', '344', '165', '66', '257', '45', '196', '142', '300', '128', '280', '127', '67', '130', '1', '323', '303', '272', '317', '59', '80', '129', '106', '268', '77', '48', '172', '187', '9', '26', '159', '79', '203', '101', '57', '105', '295', '84', '266', '171', '72', '231', '299', '345', '284', '251', '302', '297', '320', '309', '169', '330', '223', '103', '194', '338', '239', '211', '13', '148', '232', '119', '221', '222', '136', '276', '88', '139', '238', '229', '121', '22', '186', '178', '25', '156', '242', '318', '188', '258', '31', '113', '236', '324', '176', '314', '347', '27', '56', '10', '199', '340', '271', '141', '339', '313', '150', '204', '133', '308', '291', '82', '342', '92', '246', '53', '334', '29', '60', '73', '341', '285', '94', '158', '213', '248', '109', '65', '40', '329', '146'}\n",
      "\t#2 - {'273', '306', '195', '78', '218', '152', '275', '328', '181', '4'}\n",
      "\t#3 - {'149', '44', '32', '214', '167', '337', '20', '140', '2', '17', '326', '151', '137', '343', '162', '226', '19', '93', '41', '115', '144', '111', '243', '333', '312', '14', '28', '310', '116'}\n",
      "\t#4 - {'99', '263', '131', '227', '46', '225', '177', '278', '175', '102', '86', '143', '23', '68', '296'}\n",
      "\t#5 - {'25', '23', '84', '51', '237', '31', '83'}\n",
      "\t#6 - {'5', '122', '235', '156'}\n",
      "\t#7 - {'6', '147', '95', '219', '89', '327', '319'}\n",
      "\t#8 - {'312', '262', '115', '220'}\n",
      "\t#9 - {'201', '110', '245', '193', '91', '8', '259', '264'}\n"
     ]
    }
   ],
   "source": [
    "\n",
    "G = nx.read_edgelist(\"com.txt\")\n",
    "comm = kcliqueCommunities(G,4)\n",
    "commNum = 0\n",
    "for clique in comm:\n",
    "    commNum += 1\n",
    "    print(\"\\t#%d - %s\" % (commNum, clique))"
   ]
  }
 ],
 "metadata": {
  "kernelspec": {
   "display_name": "Python 3",
   "language": "python",
   "name": "python3"
  },
  "language_info": {
   "codemirror_mode": {
    "name": "ipython",
    "version": 3
   },
   "file_extension": ".py",
   "mimetype": "text/x-python",
   "name": "python",
   "nbconvert_exporter": "python",
   "pygments_lexer": "ipython3",
   "version": "3.7.3"
  }
 },
 "nbformat": 4,
 "nbformat_minor": 2
}
